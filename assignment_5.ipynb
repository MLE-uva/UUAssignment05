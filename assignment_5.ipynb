{
 "cells": [
  {
   "cell_type": "markdown",
   "id": "dd21efe9",
   "metadata": {},
   "source": [
    "# Assignment 5\n",
    "### Do all four questions."
   ]
  },
  {
   "cell_type": "markdown",
   "id": "8365cde5",
   "metadata": {},
   "source": [
    "Mason L Earp"
   ]
  },
  {
   "cell_type": "markdown",
   "id": "1ee9b4e8",
   "metadata": {},
   "source": [
    "**1.** Let's review some basic matrix multiplication. When you have an $M \\times N$ matrix $A$ with $M$ rows and $N$ columns, \n",
    "$$\n",
    "A= \\left[ \\begin{array}{cccc} a_{11} & a_{12} & ... & a_{1N} \\\\\n",
    "a_{21} & a_{22} & ... & a_{2N} \\\\\n",
    "\\vdots & \\vdots & ... & \\vdots \\\\\n",
    "a_{M1} & a_{M2} & ... & a_{MN} \n",
    "\\end{array} \\right],\n",
    "$$\n",
    "and you right-multiply it by a vector\n",
    "$$\n",
    "x = \\left[ \\begin{array}{c} x_1 \\\\ x_2 \\\\ \\vdots \\\\ x_N \n",
    "\\end{array} \\right],\n",
    "$$\n",
    "you get\n",
    "$$\n",
    "Ax = \\left[ \\begin{array}{c} \\sum_{i=1}^N a_{1i} x_i \\\\ \\sum_{i=1}^N a_{2i} x_i \\\\ \\vdots \\\\ \\sum_{i=1}^N a_{Mi} x_i \n",
    "\\end{array} \\right].\n",
    "$$\n",
    "This is just \"matrix row times column vector\" element-by-element, stacking the results into a new vector.\n",
    "\n",
    "For this to make sense, $N$ must be the same for the matrix and the vector, but $M$ can be different from $N$. \n",
    "\n",
    "Let's play with some NumPy to see this. First we'll define a matrix $A$:"
   ]
  },
  {
   "cell_type": "code",
   "execution_count": 57,
   "id": "33df3579",
   "metadata": {},
   "outputs": [
    {
     "data": {
      "text/plain": [
       "array([[1, 2, 3],\n",
       "       [4, 5, 6],\n",
       "       [7, 8, 9]])"
      ]
     },
     "execution_count": 57,
     "metadata": {},
     "output_type": "execute_result"
    }
   ],
   "source": [
    "import numpy as np\n",
    "\n",
    "A = np.array([ [1,2,3],\n",
    "              [4,5,6],\n",
    "              [7,8,9]])\n",
    "A"
   ]
  },
  {
   "cell_type": "markdown",
   "id": "94b1b3ac",
   "metadata": {},
   "source": [
    "a. Multiply $A$ times each of the following vectors using the @ operator. Explain which part of the $A$ matrix gets selected and explain why, using the definition of matrix multiplication. "
   ]
  },
  {
   "cell_type": "code",
   "execution_count": 58,
   "id": "5b6148d2",
   "metadata": {},
   "outputs": [],
   "source": [
    "e_1 = np.array([1,0,0])\n",
    "e_2 = np.array([0,1,0])\n",
    "e_3 = np.array([0,0,1])"
   ]
  },
  {
   "cell_type": "code",
   "execution_count": 59,
   "id": "75ceca38",
   "metadata": {},
   "outputs": [
    {
     "name": "stdout",
     "output_type": "stream",
     "text": [
      "[1 0 0]\n"
     ]
    }
   ],
   "source": [
    "print(e_1)"
   ]
  },
  {
   "cell_type": "code",
   "execution_count": 60,
   "id": "61b91811",
   "metadata": {},
   "outputs": [],
   "source": [
    "q1 = A@e_1\n",
    "q2 = A@e_2\n",
    "q3 = A@e_3"
   ]
  },
  {
   "cell_type": "code",
   "execution_count": 61,
   "id": "df591688",
   "metadata": {},
   "outputs": [
    {
     "name": "stdout",
     "output_type": "stream",
     "text": [
      "[1 4 7]\n"
     ]
    }
   ],
   "source": [
    "print(q1)"
   ]
  },
  {
   "cell_type": "markdown",
   "id": "8f5b6d3f",
   "metadata": {},
   "source": [
    "The operation `A@e_1` is effectivley getting the first column of the A matrix. Another way to think about this is that `A@e_1` is getting the first value from each row in the A Matrix. \n",
    "\n",
    "The Matrix Math is that each row of A is multiplied by the vector e_1[1,0,0] \\\n",
    "$ROW 1 is (1*1) + (2*0) +(3*0) = 1$\\\n",
    "$ROW 2 is (4*1) + (5*0) +(6*0) = 4$\\\n",
    "$ROW 3 is (7*1) + (8*0) +(9*0) = 7$"
   ]
  },
  {
   "cell_type": "code",
   "execution_count": 62,
   "id": "0dea289d",
   "metadata": {},
   "outputs": [
    {
     "name": "stdout",
     "output_type": "stream",
     "text": [
      "[2 5 8]\n"
     ]
    }
   ],
   "source": [
    "print(q2)"
   ]
  },
  {
   "cell_type": "markdown",
   "id": "9af54c3e",
   "metadata": {},
   "source": [
    "The operation `A@e_2` is effectivley getting the middle column of the A matrix. Another way to think about this is that `A@e_2` is getting the middle value from each row in the A Matrix. \n",
    "\n",
    "The Matrix Math is that each row of A is multiplied by the vector e_1[0,1,0] \\\n",
    "$ROW 1 is (1*0) + (2*1) +(3*0) = 2$\\\n",
    "$ROW 2 is (4*0) + (5*1) +(6*0) = 5$\\\n",
    "$ROW 3 is (7*0) + (8*1) +(9*0) = 8$"
   ]
  },
  {
   "cell_type": "code",
   "execution_count": 63,
   "id": "8308bd91",
   "metadata": {},
   "outputs": [
    {
     "name": "stdout",
     "output_type": "stream",
     "text": [
      "[3 6 9]\n"
     ]
    }
   ],
   "source": [
    "print(q3)"
   ]
  },
  {
   "cell_type": "markdown",
   "id": "19ca4a8c",
   "metadata": {},
   "source": [
    "The operation `A@e_3` is effectivley getting the third column of the A matrix. Another way to think about this is that `A@e_3` is getting the third value from each row in the A Matrix. \n",
    "\n",
    "The Matrix Math is that each row of A is multiplied by the vector e_1[0,0,1] \\\n",
    "$ROW 1 is (1*0) + (2*0) +(3*1) = 3$\\\n",
    "$ROW 2 is (4*0) + (5*0) +(6*1) = 6$\\\n",
    "$ROW 3 is (7*0) + (8*0) +(9*1) = 9$"
   ]
  },
  {
   "cell_type": "code",
   "execution_count": 64,
   "id": "7c78d4ca",
   "metadata": {},
   "outputs": [
    {
     "name": "stdout",
     "output_type": "stream",
     "text": [
      "[[ 1  2  3]\n",
      " [ 4  5  6]\n",
      " [ 7  8  9]\n",
      " [10 11 12]]\n",
      "[ 1  4  7 10]\n"
     ]
    }
   ],
   "source": [
    "#To test the above assumptions im going to make a 4 row Matrix (B) with the added row of [10, 11, 12]\n",
    "B = np.array([ [1,2,3],\n",
    "              [4,5,6],\n",
    "              [7,8,9],\n",
    "              [10,11,12]])\n",
    "print(B)\n",
    "#Then multiply B by e_1, e_2, e_3\n",
    "#Expected output of B@e_1 is [1, 4, 7, 10]\n",
    "q4 = B@e_1\n",
    "print(q4)"
   ]
  },
  {
   "cell_type": "markdown",
   "id": "72a4704e",
   "metadata": {},
   "source": [
    "b. Now multiply $A$ times $u = (1,1,1)$. Explain the logic of the result with the definition of matrix multiplication."
   ]
  },
  {
   "cell_type": "code",
   "execution_count": 65,
   "id": "5bf73f9b",
   "metadata": {},
   "outputs": [
    {
     "data": {
      "text/plain": [
       "array([1., 1., 1.])"
      ]
     },
     "execution_count": 65,
     "metadata": {},
     "output_type": "execute_result"
    }
   ],
   "source": [
    "u = np.ones(3)\n",
    "u"
   ]
  },
  {
   "cell_type": "code",
   "execution_count": 66,
   "id": "5d74f8e3",
   "metadata": {},
   "outputs": [
    {
     "data": {
      "text/plain": [
       "array([ 6., 15., 24.])"
      ]
     },
     "execution_count": 66,
     "metadata": {},
     "output_type": "execute_result"
    }
   ],
   "source": [
    "q = A@u\n",
    "q"
   ]
  },
  {
   "cell_type": "markdown",
   "id": "ed8e85d9",
   "metadata": {},
   "source": [
    "The result is the sum of the rows, from matrix A. So row 1 is 6=1+2+3, Row 2 is 15=4+5+6, Row 3 is 24=7+8+9.\n",
    " \n",
    "The Matrix Math is that each row of A is multiplied by the vector u[1,1,1] With the rows summed \\\n",
    "$ROW 1 is (1*1) + (2*1) +(3*1) = 6$\\\n",
    "$ROW 2 is (4*1) + (5*1) +(6*1) = 15$\\\n",
    "$ROW 3 is (7*1) + (8*1) +(9*1) = 24$"
   ]
  },
  {
   "cell_type": "markdown",
   "id": "dde75eab",
   "metadata": {},
   "source": [
    "c. Whenever a matrix has 1's on the diagonal and zeros everywhere else, we call it an **identity matrix**. What happens when you multiple $A$ times $x$ below? What happens when you multiple an identity matrix times any vector? Explain your result with the definition of matrix multiplication."
   ]
  },
  {
   "cell_type": "code",
   "execution_count": 67,
   "id": "b0d349c4",
   "metadata": {},
   "outputs": [
    {
     "data": {
      "text/plain": [
       "array([-2,  4, 11])"
      ]
     },
     "execution_count": 67,
     "metadata": {},
     "output_type": "execute_result"
    }
   ],
   "source": [
    "A = np.array([ [1,0,0],\n",
    "              [0,1,0],\n",
    "              [0,0,1]])\n",
    "x = np.array([-2,4,11])\n",
    "q1 = x@A\n",
    "q1\n"
   ]
  },
  {
   "cell_type": "markdown",
   "id": "3ba61395",
   "metadata": {},
   "source": [
    "Multiplying an identity matrix by any vecotr will return the original vector. For the Array x = [-2,4,11] The identity array A will mutiply the ith element by the jth column.\n",
    "\n",
    "The Matrix Math is the row in `x` is multiplied by each column in `A` \\\n",
    "$(-2*1) + (4*0) +(11*0) = -2$\\\n",
    "$(-2*0) + (4*1) +(11*0) = 4$\\\n",
    "$(-2*0) + (4*0) +(11*1) = 11$\n"
   ]
  },
  {
   "cell_type": "markdown",
   "id": "57141925",
   "metadata": {},
   "source": [
    "d. What if every row and column sum to 1, but the 1's are no longer on the diagonal? Multiple $A$ times $X$ below and explain the result. Create another matrix whose rows and columns sum to 1, but is not an identity matrix, and show how it permutes the values of $x$. "
   ]
  },
  {
   "cell_type": "code",
   "execution_count": 68,
   "id": "83a9ed11",
   "metadata": {},
   "outputs": [
    {
     "data": {
      "text/plain": [
       "array([11, -2,  4])"
      ]
     },
     "execution_count": 68,
     "metadata": {},
     "output_type": "execute_result"
    }
   ],
   "source": [
    "A = np.array([ [0,0,1],\n",
    "              [1,0,0],\n",
    "              [0,1,0]])\n",
    "x = np.array([-2,4,11])\n",
    "q = A@x\n",
    "q"
   ]
  },
  {
   "cell_type": "markdown",
   "id": "e2ad883a",
   "metadata": {},
   "source": [
    "By moving where the 1's and 0's are in the new matrix we are reordering where the values are from the original matrix.\\\n",
    "Matrix A =  \\\n",
    "[0,0,1],\\\n",
    "              [1,0,0],\\\n",
    "              [0,1,0]\\\n",
    "              Effectively moves the third component to the first, the first component to the second, and the second component to the third. \\\n",
    "$(-2*0) + (4*0) +(11*1) = 11$\\\n",
    "$(-2*1) + (4*0) +(11*0) = -2$\\\n",
    "$(-2*0) + (4*1) +(11*0) = 4$"
   ]
  },
  {
   "cell_type": "markdown",
   "id": "611c26c3",
   "metadata": {},
   "source": [
    "e. The next matrix $A$ could be a Markov transition matrix: Its columns sum to 1, and each entry $a_{ij}$ can be interpreted as the proportion of observations who moved from state $j$ to state $i$. Multiply $A$ by each of the vectors $e_1$, $e_2$, and $e_3$, and explain your results."
   ]
  },
  {
   "cell_type": "code",
   "execution_count": 69,
   "id": "aff4fb97",
   "metadata": {},
   "outputs": [
    {
     "name": "stdout",
     "output_type": "stream",
     "text": [
      "[[0.50052958 0.24049286 0.18358131]\n",
      " [0.02574731 0.39251588 0.37907577]\n",
      " [0.47372311 0.36699127 0.43734292]]\n"
     ]
    }
   ],
   "source": [
    "rng = np.random.default_rng(100)\n",
    "A = rng.random((3,3)) # Generate a random 3X3 matrix\n",
    "sums = np.sum(A,axis=0) # Column sums\n",
    "A = A/sums # Normalize the columns so they sum to 1\n",
    "print(A)"
   ]
  },
  {
   "cell_type": "code",
   "execution_count": 70,
   "id": "c5cc6bc9",
   "metadata": {},
   "outputs": [
    {
     "name": "stdout",
     "output_type": "stream",
     "text": [
      "Here's A@e_1:  [0.50052958 0.02574731 0.47372311]\n",
      "Here's A@e_2:  [0.24049286 0.39251588 0.36699127]\n",
      "Here's A@e_3:  [0.18358131 0.37907577 0.43734292]\n"
     ]
    }
   ],
   "source": [
    "e_1 = np.array([1,0,0])\n",
    "e_2 = np.array([0,1,0])\n",
    "e_3 = np.array([0,0,1])\n",
    "\n",
    "e1 = A@e_1\n",
    "e2 = A@e_2\n",
    "e3 = A@e_3\n",
    "\n",
    "print(f\"Here's A@e_1: \", e1)\n",
    "print(f\"Here's A@e_2: \", e2)\n",
    "print(f\"Here's A@e_3: \", e3)"
   ]
  },
  {
   "cell_type": "markdown",
   "id": "c2234c7d",
   "metadata": {},
   "source": [
    "The resulting vectors are the columns from the randomized matrix, each one adds to 1.\\\n",
    "Each multiplication shows the proabability that an observation moved to a different state:\\\n",
    "Here's A@e_1:  \\\n",
    "0.50052958 stayed in state 1, 1->1\\\n",
    "0.02574731 transitioned to state 2, 1->2\\\n",
    "0.47372311 transitioned to state 3, 1->3\n",
    "\n",
    "Here's A@e_2:  \\\n",
    "0.24049286 transitioned to state 1, 2->1\\\n",
    "0.39251588 stayed in state 2, 2->2\\\n",
    "0.36699127 transitioned to state 3, 3->3\n",
    "\n",
    "Here's A@e_3:  \\\n",
    "0.18358131 transitioned to state 1, 3->1\\\n",
    "0.37907577 transitioned to state 2, 3->2\\\n",
    "0.43734292 stayed in state 3, 3->3"
   ]
  },
  {
   "cell_type": "markdown",
   "id": "0647bfa7",
   "metadata": {},
   "source": [
    "f. For each of the vectors $e_1, e_2, e_3$, multiple $A$ times that vector 5 times. What answer do you get for each starting vector? Describe the behavior you observe."
   ]
  },
  {
   "cell_type": "code",
   "execution_count": 71,
   "id": "cbd73a1c",
   "metadata": {},
   "outputs": [
    {
     "name": "stdout",
     "output_type": "stream",
     "text": [
      "Here's A@e_1 5 times:  [0.29266551 0.27862515 0.42870935]\n"
     ]
    }
   ],
   "source": [
    "rng = np.random.default_rng(100)\n",
    "A = rng.random((3,3)) # Generate a random 3X3 matrix\n",
    "sums = np.sum(A,axis=0) # Column sums\n",
    "A = A/sums # Normalize the columns so they sum to 1\n",
    "\n",
    "e_1 = np.array([1,0,0])\n",
    "e_2 = np.array([0,1,0])\n",
    "e_3 = np.array([0,0,1])\n",
    "\n",
    "e = e_1\n",
    "for i in range(5):\n",
    "    e = A @ e\n",
    "print(f\"Here's A@e_1 5 times: \", e)\n",
    "\n"
   ]
  },
  {
   "cell_type": "code",
   "execution_count": 72,
   "id": "4e871bcf",
   "metadata": {},
   "outputs": [
    {
     "name": "stdout",
     "output_type": "stream",
     "text": [
      "Here's A@e_2 5 times:  [0.29197422 0.27979983 0.42822595]\n"
     ]
    }
   ],
   "source": [
    "e = e_2\n",
    "for i in range(5):\n",
    "    e = A @ e\n",
    "print(f\"Here's A@e_2 5 times: \", e)"
   ]
  },
  {
   "cell_type": "code",
   "execution_count": 73,
   "id": "49ba8820",
   "metadata": {},
   "outputs": [
    {
     "name": "stdout",
     "output_type": "stream",
     "text": [
      "Here's A@e_3 5 times:  [0.29171646 0.2802254  0.42805814]\n"
     ]
    }
   ],
   "source": [
    "e = e_3\n",
    "for i in range(5):\n",
    "    e = A @ e\n",
    "print(f\"Here's A@e_3 5 times: \", e)"
   ]
  },
  {
   "cell_type": "markdown",
   "id": "bf2e0c27",
   "metadata": {},
   "source": [
    "It appears that the transitioning between states is converging. I would assume that after thousands of iterations we would reach a steady state that equals ~.30, ~.30, ~.40 \\\n",
    "The probability of transitioning to 1 = [0.29266551,0.29197422,0.29171646]\\\n",
    "The probability of transitioning to 2 = [0.27862515,0.27862515,0.27862515]\\\n",
    "The probability of transitioning to 3 = [0.42870935,0.42822595,0.42805814]"
   ]
  },
  {
   "cell_type": "markdown",
   "id": "fa2c9a93",
   "metadata": {},
   "source": [
    "*2.* Let's consider a simple Markov transition matrix over two states:\n",
    "$$\n",
    "T = \\left[ \\begin{array}{cc} p_{1\\leftarrow 1} &  p_{1\\leftarrow 2} \\\\\n",
    "p_{2 \\leftarrow 1} & p_{2 \\leftarrow 2} \\end{array}\\right] \n",
    "$$\n",
    "The arrows help visualize the transition a bit: This is the same index notation as usual, $p_{ij}$, but writing it $p_{i \\leftarrow j}$ emphasizes that it's the proportion of times that state $j$ transitions to state $i$. Below, $T$ is given by\n",
    "$$\n",
    "T = \\left[ \\begin{array}{cc} .25 & .5 \\\\\n",
    ".75 & .5 \\end{array}\\right].\n",
    "$$\n",
    "\n",
    "- Start in state 1, at the initial condition $[1,0]$. Multiply that vector by $T$. Write out the result in terms of the formula and compute the result in a code chunk below. What is this object you're looking at, in terms of proportions and transitions?\n",
    "- Multiple by $T$ again. What do you get? This isn't a column of $T$. Explain in words what it is. (Hint: A forecast of what in what period?)\n",
    "- Keep multiplying the current vector of outcomes by $T$. When does it start to settle down without changing further?\n",
    "- Do the above analysis again, starting from the initial condition $[0,1]$. Do you get a different result?\n",
    "- The take-away is that, in the long run, these chains settle down into the long-run proportions, and the sensitivity on initial conditions vanishes. \n"
   ]
  },
  {
   "cell_type": "code",
   "execution_count": 74,
   "id": "499daf16",
   "metadata": {},
   "outputs": [
    {
     "name": "stdout",
     "output_type": "stream",
     "text": [
      "[1 0]\n"
     ]
    }
   ],
   "source": [
    "init_condition = np.array([1,0])\n",
    "print(init_condition)"
   ]
  },
  {
   "cell_type": "code",
   "execution_count": 75,
   "id": "4b6a775f",
   "metadata": {},
   "outputs": [
    {
     "name": "stdout",
     "output_type": "stream",
     "text": [
      "[[0.25 0.5 ]\n",
      " [0.75 0.5 ]]\n"
     ]
    }
   ],
   "source": [
    "T = np.array([[ 1/4, 1/2],\n",
    "                 [ 3/4, 1/2 ]])\n",
    "print(T)"
   ]
  },
  {
   "cell_type": "code",
   "execution_count": 76,
   "id": "8f8e6a29",
   "metadata": {},
   "outputs": [
    {
     "data": {
      "text/plain": [
       "array([0.25, 0.75])"
      ]
     },
     "execution_count": 76,
     "metadata": {},
     "output_type": "execute_result"
    }
   ],
   "source": [
    "p1 = T @ init_condition\n",
    "p1"
   ]
  },
  {
   "cell_type": "markdown",
   "id": "4dbc3a82",
   "metadata": {},
   "source": [
    "The resulting array `p1` is the probability that the states transitioned from the 1 state. The first value 0.25 is the proabablity that the state did not change or went from $1 \\rightarrow 1$ . The second value is the probablity that the state went from $1 \\rightarrow 2$ .\n",
    "$$\n",
    "p1 = \\left[ \\begin{array}{cc} p_{1 \\rightarrow 1} (0.25)(1) &+& p_{2 \\rightarrow 1}(0.5)(0) \\\\\n",
    "p_{1 \\rightarrow 2} (0.75)(1) &+& p_{2 \\rightarrow 2}(0.5)(0) \\end{array}\\right]\n",
    "$$"
   ]
  },
  {
   "cell_type": "code",
   "execution_count": 77,
   "id": "7359126b",
   "metadata": {},
   "outputs": [
    {
     "data": {
      "text/plain": [
       "array([0.4375, 0.5625])"
      ]
     },
     "execution_count": 77,
     "metadata": {},
     "output_type": "execute_result"
    }
   ],
   "source": [
    "p2 = T @ p1\n",
    "p2"
   ]
  },
  {
   "cell_type": "markdown",
   "id": "a3fc8abc",
   "metadata": {},
   "source": [
    "p2 is the resulting probability of being is state 1 or 2 after 2 steps. Initially we were in [1,0] then moved to [0.25,0.75] after 1 more time step we are in [0.4375,0.5635]\n",
    "That is the the probabilty that we are in the 1 state is 0.4375 and the probability of begin in the 2 state is 0.5625.\n",
    "$$\n",
    "p2 = \\left[ \\begin{array}{cc} (1/4)(0.25) &+& (1/2)(0.75) \\\\\n",
    "(3/4)(0.25) &+& (1/2)(0.75) \\end{array}\\right]\n",
    "$$\n",
    "$$\n",
    "p2 = \\left[ \\begin{array}{cc} (0.0625) &+& (0.375) \\\\\n",
    "(0.1875) &+& (0.375) \\end{array}\\right]\n",
    "$$\n",
    "$$\n",
    "p2 = \\left[ \\begin{array}{cc} (0.4375) \\\\\n",
    "(0.5625) \\end{array}\\right]\n",
    "$$"
   ]
  },
  {
   "cell_type": "code",
   "execution_count": 78,
   "id": "0bfd3ea7",
   "metadata": {},
   "outputs": [
    {
     "data": {
      "text/plain": [
       "[array([0.25, 0.75]),\n",
       " array([0.4375, 0.5625]),\n",
       " array([0.390625, 0.609375]),\n",
       " array([0.40234375, 0.59765625]),\n",
       " array([0.39941406, 0.60058594]),\n",
       " array([0.40014648, 0.59985352]),\n",
       " array([0.39996338, 0.60003662]),\n",
       " array([0.40000916, 0.59999084]),\n",
       " array([0.39999771, 0.60000229]),\n",
       " array([0.40000057, 0.59999943]),\n",
       " array([0.39999986, 0.60000014]),\n",
       " array([0.40000004, 0.59999996]),\n",
       " array([0.39999999, 0.60000001]),\n",
       " array([0.4, 0.6]),\n",
       " array([0.4, 0.6])]"
      ]
     },
     "execution_count": 78,
     "metadata": {},
     "output_type": "execute_result"
    }
   ],
   "source": [
    "T = np.array([[ 1/4, 1/2],\n",
    "                 [ 3/4, 1/2 ]])\n",
    "p = [1,0]\n",
    "sim = []\n",
    "for i in range(15):\n",
    "    p = T@p\n",
    "    sim.append(p)\n",
    "sim"
   ]
  },
  {
   "cell_type": "markdown",
   "id": "275a8030",
   "metadata": {},
   "source": [
    "When the initial condition is [1,0] after 15 iterations the states stabilize to [0.4, 0.6]."
   ]
  },
  {
   "cell_type": "code",
   "execution_count": 79,
   "id": "9c54213b",
   "metadata": {},
   "outputs": [
    {
     "data": {
      "text/plain": [
       "[array([0.5, 0.5]),\n",
       " array([0.375, 0.625]),\n",
       " array([0.40625, 0.59375]),\n",
       " array([0.3984375, 0.6015625]),\n",
       " array([0.40039062, 0.59960938]),\n",
       " array([0.39990234, 0.60009766]),\n",
       " array([0.40002441, 0.59997559]),\n",
       " array([0.3999939, 0.6000061]),\n",
       " array([0.40000153, 0.59999847]),\n",
       " array([0.39999962, 0.60000038]),\n",
       " array([0.4000001, 0.5999999]),\n",
       " array([0.39999998, 0.60000002]),\n",
       " array([0.40000001, 0.59999999]),\n",
       " array([0.4, 0.6]),\n",
       " array([0.4, 0.6])]"
      ]
     },
     "execution_count": 79,
     "metadata": {},
     "output_type": "execute_result"
    }
   ],
   "source": [
    "T = np.array([[ 1/4, 1/2],\n",
    "                 [ 3/4, 1/2 ]])\n",
    "p = [0,1]\n",
    "sim = []\n",
    "for i in range(15):\n",
    "    p = T@p\n",
    "    sim.append(p)\n",
    "sim"
   ]
  },
  {
   "cell_type": "markdown",
   "id": "3136e401",
   "metadata": {},
   "source": [
    "When the initial condition is [0,1], after 15 iterations the states stabilize to [0.4,0.6]. The same as when starting at [1,0]."
   ]
  },
  {
   "cell_type": "markdown",
   "id": "921592e9",
   "metadata": {},
   "source": [
    "3. Weather data\n",
    "\n",
    "- Load the `cville_weather.csv` data. This includes data from Jan 4, 2024 to Feb 2, 2025. Are there any missing data issues?\n",
    "- Based on the precipitation variable, `PRCP`, make a new variable called `rain` that takes the value 1 if `PRCP`>0 and 0 otherwise.\n",
    "- Build a two-state Markov chain over the states 0 and 1 for the `rain` variable. \n",
    "- For your chain from c, how likely is it to rain if it was rainy yesterday? How likely is it to rain if it was clear yesterday?\n",
    "- Starting from a clear day, forecast the distribution. How quickly does it converge to a fixed result? What if you start from a rainy day?\n",
    "- Conditional on being rainy, plot a KDE of the `PRCP` variable.\n",
    "- Describe one way of making your model better for forecasting and simulation the weather.\n",
    "\n",
    "Congratulations, you now are a non-parametric meteorologist!"
   ]
  },
  {
   "cell_type": "code",
   "execution_count": 105,
   "id": "50857eed",
   "metadata": {},
   "outputs": [
    {
     "data": {
      "text/html": [
       "<div>\n",
       "<style scoped>\n",
       "    .dataframe tbody tr th:only-of-type {\n",
       "        vertical-align: middle;\n",
       "    }\n",
       "\n",
       "    .dataframe tbody tr th {\n",
       "        vertical-align: top;\n",
       "    }\n",
       "\n",
       "    .dataframe thead th {\n",
       "        text-align: right;\n",
       "    }\n",
       "</style>\n",
       "<table border=\"1\" class=\"dataframe\">\n",
       "  <thead>\n",
       "    <tr style=\"text-align: right;\">\n",
       "      <th></th>\n",
       "      <th>STATION</th>\n",
       "      <th>NAME</th>\n",
       "      <th>DATE</th>\n",
       "      <th>DAPR</th>\n",
       "      <th>DAPR_ATTRIBUTES</th>\n",
       "      <th>MDPR</th>\n",
       "      <th>MDPR_ATTRIBUTES</th>\n",
       "      <th>PRCP</th>\n",
       "      <th>PRCP_ATTRIBUTES</th>\n",
       "      <th>SNOW</th>\n",
       "      <th>SNOW_ATTRIBUTES</th>\n",
       "      <th>SNWD</th>\n",
       "      <th>SNWD_ATTRIBUTES</th>\n",
       "    </tr>\n",
       "  </thead>\n",
       "  <tbody>\n",
       "    <tr>\n",
       "      <th>0</th>\n",
       "      <td>US1VACRC002</td>\n",
       "      <td>CHARLOTTESVILLE 0.5 NNE, VA US</td>\n",
       "      <td>2024-01-04</td>\n",
       "      <td>NaN</td>\n",
       "      <td>NaN</td>\n",
       "      <td>NaN</td>\n",
       "      <td>NaN</td>\n",
       "      <td>0.03</td>\n",
       "      <td>,,N</td>\n",
       "      <td>NaN</td>\n",
       "      <td>NaN</td>\n",
       "      <td>NaN</td>\n",
       "      <td>NaN</td>\n",
       "    </tr>\n",
       "    <tr>\n",
       "      <th>1</th>\n",
       "      <td>US1VACRC002</td>\n",
       "      <td>CHARLOTTESVILLE 0.5 NNE, VA US</td>\n",
       "      <td>2024-01-07</td>\n",
       "      <td>NaN</td>\n",
       "      <td>NaN</td>\n",
       "      <td>NaN</td>\n",
       "      <td>NaN</td>\n",
       "      <td>1.08</td>\n",
       "      <td>,,N</td>\n",
       "      <td>NaN</td>\n",
       "      <td>NaN</td>\n",
       "      <td>NaN</td>\n",
       "      <td>NaN</td>\n",
       "    </tr>\n",
       "    <tr>\n",
       "      <th>271</th>\n",
       "      <td>US1VAAB0010</td>\n",
       "      <td>CHARLOTTESVILLE 8.4 W, VA US</td>\n",
       "      <td>2024-01-08</td>\n",
       "      <td>NaN</td>\n",
       "      <td>NaN</td>\n",
       "      <td>NaN</td>\n",
       "      <td>NaN</td>\n",
       "      <td>0.00</td>\n",
       "      <td>,,N</td>\n",
       "      <td>0.0</td>\n",
       "      <td>,,N</td>\n",
       "      <td>NaN</td>\n",
       "      <td>NaN</td>\n",
       "    </tr>\n",
       "    <tr>\n",
       "      <th>2</th>\n",
       "      <td>US1VACRC002</td>\n",
       "      <td>CHARLOTTESVILLE 0.5 NNE, VA US</td>\n",
       "      <td>2024-01-09</td>\n",
       "      <td>NaN</td>\n",
       "      <td>NaN</td>\n",
       "      <td>NaN</td>\n",
       "      <td>NaN</td>\n",
       "      <td>0.24</td>\n",
       "      <td>,,N</td>\n",
       "      <td>NaN</td>\n",
       "      <td>NaN</td>\n",
       "      <td>NaN</td>\n",
       "      <td>NaN</td>\n",
       "    </tr>\n",
       "    <tr>\n",
       "      <th>3</th>\n",
       "      <td>US1VACRC002</td>\n",
       "      <td>CHARLOTTESVILLE 0.5 NNE, VA US</td>\n",
       "      <td>2024-01-10</td>\n",
       "      <td>NaN</td>\n",
       "      <td>NaN</td>\n",
       "      <td>NaN</td>\n",
       "      <td>NaN</td>\n",
       "      <td>3.00</td>\n",
       "      <td>,,N</td>\n",
       "      <td>NaN</td>\n",
       "      <td>NaN</td>\n",
       "      <td>NaN</td>\n",
       "      <td>NaN</td>\n",
       "    </tr>\n",
       "    <tr>\n",
       "      <th>...</th>\n",
       "      <td>...</td>\n",
       "      <td>...</td>\n",
       "      <td>...</td>\n",
       "      <td>...</td>\n",
       "      <td>...</td>\n",
       "      <td>...</td>\n",
       "      <td>...</td>\n",
       "      <td>...</td>\n",
       "      <td>...</td>\n",
       "      <td>...</td>\n",
       "      <td>...</td>\n",
       "      <td>...</td>\n",
       "      <td>...</td>\n",
       "    </tr>\n",
       "    <tr>\n",
       "      <th>266</th>\n",
       "      <td>US1VACRC002</td>\n",
       "      <td>CHARLOTTESVILLE 0.5 NNE, VA US</td>\n",
       "      <td>2025-09-18</td>\n",
       "      <td>NaN</td>\n",
       "      <td>NaN</td>\n",
       "      <td>NaN</td>\n",
       "      <td>NaN</td>\n",
       "      <td>0.04</td>\n",
       "      <td>,,N</td>\n",
       "      <td>NaN</td>\n",
       "      <td>NaN</td>\n",
       "      <td>NaN</td>\n",
       "      <td>NaN</td>\n",
       "    </tr>\n",
       "    <tr>\n",
       "      <th>267</th>\n",
       "      <td>US1VACRC002</td>\n",
       "      <td>CHARLOTTESVILLE 0.5 NNE, VA US</td>\n",
       "      <td>2025-09-21</td>\n",
       "      <td>NaN</td>\n",
       "      <td>NaN</td>\n",
       "      <td>NaN</td>\n",
       "      <td>NaN</td>\n",
       "      <td>0.38</td>\n",
       "      <td>,,N</td>\n",
       "      <td>NaN</td>\n",
       "      <td>NaN</td>\n",
       "      <td>NaN</td>\n",
       "      <td>NaN</td>\n",
       "    </tr>\n",
       "    <tr>\n",
       "      <th>268</th>\n",
       "      <td>US1VACRC002</td>\n",
       "      <td>CHARLOTTESVILLE 0.5 NNE, VA US</td>\n",
       "      <td>2025-09-25</td>\n",
       "      <td>NaN</td>\n",
       "      <td>NaN</td>\n",
       "      <td>NaN</td>\n",
       "      <td>NaN</td>\n",
       "      <td>0.29</td>\n",
       "      <td>,,N</td>\n",
       "      <td>NaN</td>\n",
       "      <td>NaN</td>\n",
       "      <td>NaN</td>\n",
       "      <td>NaN</td>\n",
       "    </tr>\n",
       "    <tr>\n",
       "      <th>269</th>\n",
       "      <td>US1VACRC002</td>\n",
       "      <td>CHARLOTTESVILLE 0.5 NNE, VA US</td>\n",
       "      <td>2025-09-27</td>\n",
       "      <td>NaN</td>\n",
       "      <td>NaN</td>\n",
       "      <td>NaN</td>\n",
       "      <td>NaN</td>\n",
       "      <td>0.24</td>\n",
       "      <td>,,N</td>\n",
       "      <td>NaN</td>\n",
       "      <td>NaN</td>\n",
       "      <td>NaN</td>\n",
       "      <td>NaN</td>\n",
       "    </tr>\n",
       "    <tr>\n",
       "      <th>270</th>\n",
       "      <td>US1VACRC002</td>\n",
       "      <td>CHARLOTTESVILLE 0.5 NNE, VA US</td>\n",
       "      <td>2025-09-28</td>\n",
       "      <td>NaN</td>\n",
       "      <td>NaN</td>\n",
       "      <td>NaN</td>\n",
       "      <td>NaN</td>\n",
       "      <td>0.60</td>\n",
       "      <td>,,N</td>\n",
       "      <td>NaN</td>\n",
       "      <td>NaN</td>\n",
       "      <td>NaN</td>\n",
       "      <td>NaN</td>\n",
       "    </tr>\n",
       "  </tbody>\n",
       "</table>\n",
       "<p>411 rows × 13 columns</p>\n",
       "</div>"
      ],
      "text/plain": [
       "         STATION                            NAME        DATE  DAPR  \\\n",
       "0    US1VACRC002  CHARLOTTESVILLE 0.5 NNE, VA US  2024-01-04   NaN   \n",
       "1    US1VACRC002  CHARLOTTESVILLE 0.5 NNE, VA US  2024-01-07   NaN   \n",
       "271  US1VAAB0010    CHARLOTTESVILLE 8.4 W, VA US  2024-01-08   NaN   \n",
       "2    US1VACRC002  CHARLOTTESVILLE 0.5 NNE, VA US  2024-01-09   NaN   \n",
       "3    US1VACRC002  CHARLOTTESVILLE 0.5 NNE, VA US  2024-01-10   NaN   \n",
       "..           ...                             ...         ...   ...   \n",
       "266  US1VACRC002  CHARLOTTESVILLE 0.5 NNE, VA US  2025-09-18   NaN   \n",
       "267  US1VACRC002  CHARLOTTESVILLE 0.5 NNE, VA US  2025-09-21   NaN   \n",
       "268  US1VACRC002  CHARLOTTESVILLE 0.5 NNE, VA US  2025-09-25   NaN   \n",
       "269  US1VACRC002  CHARLOTTESVILLE 0.5 NNE, VA US  2025-09-27   NaN   \n",
       "270  US1VACRC002  CHARLOTTESVILLE 0.5 NNE, VA US  2025-09-28   NaN   \n",
       "\n",
       "    DAPR_ATTRIBUTES  MDPR MDPR_ATTRIBUTES  PRCP PRCP_ATTRIBUTES  SNOW  \\\n",
       "0               NaN   NaN             NaN  0.03             ,,N   NaN   \n",
       "1               NaN   NaN             NaN  1.08             ,,N   NaN   \n",
       "271             NaN   NaN             NaN  0.00             ,,N   0.0   \n",
       "2               NaN   NaN             NaN  0.24             ,,N   NaN   \n",
       "3               NaN   NaN             NaN  3.00             ,,N   NaN   \n",
       "..              ...   ...             ...   ...             ...   ...   \n",
       "266             NaN   NaN             NaN  0.04             ,,N   NaN   \n",
       "267             NaN   NaN             NaN  0.38             ,,N   NaN   \n",
       "268             NaN   NaN             NaN  0.29             ,,N   NaN   \n",
       "269             NaN   NaN             NaN  0.24             ,,N   NaN   \n",
       "270             NaN   NaN             NaN  0.60             ,,N   NaN   \n",
       "\n",
       "    SNOW_ATTRIBUTES  SNWD SNWD_ATTRIBUTES  \n",
       "0               NaN   NaN             NaN  \n",
       "1               NaN   NaN             NaN  \n",
       "271             ,,N   NaN             NaN  \n",
       "2               NaN   NaN             NaN  \n",
       "3               NaN   NaN             NaN  \n",
       "..              ...   ...             ...  \n",
       "266             NaN   NaN             NaN  \n",
       "267             NaN   NaN             NaN  \n",
       "268             NaN   NaN             NaN  \n",
       "269             NaN   NaN             NaN  \n",
       "270             NaN   NaN             NaN  \n",
       "\n",
       "[411 rows x 13 columns]"
      ]
     },
     "execution_count": 105,
     "metadata": {},
     "output_type": "execute_result"
    }
   ],
   "source": [
    "import pandas as pd\n",
    "weather = pd.read_csv(\"cville_weather.csv\")\n",
    "weather = weather.sort_values(by='DATE')\n",
    "weather"
   ]
  },
  {
   "cell_type": "code",
   "execution_count": 106,
   "id": "20aad3fa",
   "metadata": {},
   "outputs": [
    {
     "data": {
      "text/plain": [
       "STATION              0\n",
       "NAME                 0\n",
       "DATE                 0\n",
       "DAPR               399\n",
       "DAPR_ATTRIBUTES    399\n",
       "MDPR               399\n",
       "MDPR_ATTRIBUTES    399\n",
       "PRCP                12\n",
       "PRCP_ATTRIBUTES     12\n",
       "SNOW               188\n",
       "SNOW_ATTRIBUTES    188\n",
       "SNWD               410\n",
       "SNWD_ATTRIBUTES    410\n",
       "dtype: int64"
      ]
     },
     "execution_count": 106,
     "metadata": {},
     "output_type": "execute_result"
    }
   ],
   "source": [
    "weather.isna().sum()\n"
   ]
  },
  {
   "cell_type": "markdown",
   "id": "32ca5e2a",
   "metadata": {},
   "source": [
    "Yes there are many there are only 411 rows and some rows have 410 missing values. But for our data i think we can just limit the frames to the date and the PRCP and remove any NaN rows from PRCP."
   ]
  },
  {
   "cell_type": "code",
   "execution_count": 112,
   "id": "69328631",
   "metadata": {},
   "outputs": [],
   "source": [
    "#Drop NaN values from weather in PRCP\n",
    "cleaned_weather = weather.dropna(subset=['PRCP']).copy()\n",
    "cleaned_weather = cleaned_weather[['STATION', 'NAME', 'DATE','PRCP']]"
   ]
  },
  {
   "cell_type": "code",
   "execution_count": 113,
   "id": "ae913d6d",
   "metadata": {},
   "outputs": [
    {
     "data": {
      "text/html": [
       "<div>\n",
       "<style scoped>\n",
       "    .dataframe tbody tr th:only-of-type {\n",
       "        vertical-align: middle;\n",
       "    }\n",
       "\n",
       "    .dataframe tbody tr th {\n",
       "        vertical-align: top;\n",
       "    }\n",
       "\n",
       "    .dataframe thead th {\n",
       "        text-align: right;\n",
       "    }\n",
       "</style>\n",
       "<table border=\"1\" class=\"dataframe\">\n",
       "  <thead>\n",
       "    <tr style=\"text-align: right;\">\n",
       "      <th></th>\n",
       "      <th>STATION</th>\n",
       "      <th>NAME</th>\n",
       "      <th>DATE</th>\n",
       "      <th>PRCP</th>\n",
       "      <th>rain</th>\n",
       "    </tr>\n",
       "  </thead>\n",
       "  <tbody>\n",
       "    <tr>\n",
       "      <th>0</th>\n",
       "      <td>US1VACRC002</td>\n",
       "      <td>CHARLOTTESVILLE 0.5 NNE, VA US</td>\n",
       "      <td>2024-01-04</td>\n",
       "      <td>0.03</td>\n",
       "      <td>1</td>\n",
       "    </tr>\n",
       "    <tr>\n",
       "      <th>1</th>\n",
       "      <td>US1VACRC002</td>\n",
       "      <td>CHARLOTTESVILLE 0.5 NNE, VA US</td>\n",
       "      <td>2024-01-07</td>\n",
       "      <td>1.08</td>\n",
       "      <td>1</td>\n",
       "    </tr>\n",
       "    <tr>\n",
       "      <th>271</th>\n",
       "      <td>US1VAAB0010</td>\n",
       "      <td>CHARLOTTESVILLE 8.4 W, VA US</td>\n",
       "      <td>2024-01-08</td>\n",
       "      <td>0.00</td>\n",
       "      <td>0</td>\n",
       "    </tr>\n",
       "    <tr>\n",
       "      <th>2</th>\n",
       "      <td>US1VACRC002</td>\n",
       "      <td>CHARLOTTESVILLE 0.5 NNE, VA US</td>\n",
       "      <td>2024-01-09</td>\n",
       "      <td>0.24</td>\n",
       "      <td>1</td>\n",
       "    </tr>\n",
       "    <tr>\n",
       "      <th>3</th>\n",
       "      <td>US1VACRC002</td>\n",
       "      <td>CHARLOTTESVILLE 0.5 NNE, VA US</td>\n",
       "      <td>2024-01-10</td>\n",
       "      <td>3.00</td>\n",
       "      <td>1</td>\n",
       "    </tr>\n",
       "    <tr>\n",
       "      <th>...</th>\n",
       "      <td>...</td>\n",
       "      <td>...</td>\n",
       "      <td>...</td>\n",
       "      <td>...</td>\n",
       "      <td>...</td>\n",
       "    </tr>\n",
       "    <tr>\n",
       "      <th>266</th>\n",
       "      <td>US1VACRC002</td>\n",
       "      <td>CHARLOTTESVILLE 0.5 NNE, VA US</td>\n",
       "      <td>2025-09-18</td>\n",
       "      <td>0.04</td>\n",
       "      <td>1</td>\n",
       "    </tr>\n",
       "    <tr>\n",
       "      <th>267</th>\n",
       "      <td>US1VACRC002</td>\n",
       "      <td>CHARLOTTESVILLE 0.5 NNE, VA US</td>\n",
       "      <td>2025-09-21</td>\n",
       "      <td>0.38</td>\n",
       "      <td>1</td>\n",
       "    </tr>\n",
       "    <tr>\n",
       "      <th>268</th>\n",
       "      <td>US1VACRC002</td>\n",
       "      <td>CHARLOTTESVILLE 0.5 NNE, VA US</td>\n",
       "      <td>2025-09-25</td>\n",
       "      <td>0.29</td>\n",
       "      <td>1</td>\n",
       "    </tr>\n",
       "    <tr>\n",
       "      <th>269</th>\n",
       "      <td>US1VACRC002</td>\n",
       "      <td>CHARLOTTESVILLE 0.5 NNE, VA US</td>\n",
       "      <td>2025-09-27</td>\n",
       "      <td>0.24</td>\n",
       "      <td>1</td>\n",
       "    </tr>\n",
       "    <tr>\n",
       "      <th>270</th>\n",
       "      <td>US1VACRC002</td>\n",
       "      <td>CHARLOTTESVILLE 0.5 NNE, VA US</td>\n",
       "      <td>2025-09-28</td>\n",
       "      <td>0.60</td>\n",
       "      <td>1</td>\n",
       "    </tr>\n",
       "  </tbody>\n",
       "</table>\n",
       "<p>399 rows × 5 columns</p>\n",
       "</div>"
      ],
      "text/plain": [
       "         STATION                            NAME        DATE  PRCP  rain\n",
       "0    US1VACRC002  CHARLOTTESVILLE 0.5 NNE, VA US  2024-01-04  0.03     1\n",
       "1    US1VACRC002  CHARLOTTESVILLE 0.5 NNE, VA US  2024-01-07  1.08     1\n",
       "271  US1VAAB0010    CHARLOTTESVILLE 8.4 W, VA US  2024-01-08  0.00     0\n",
       "2    US1VACRC002  CHARLOTTESVILLE 0.5 NNE, VA US  2024-01-09  0.24     1\n",
       "3    US1VACRC002  CHARLOTTESVILLE 0.5 NNE, VA US  2024-01-10  3.00     1\n",
       "..           ...                             ...         ...   ...   ...\n",
       "266  US1VACRC002  CHARLOTTESVILLE 0.5 NNE, VA US  2025-09-18  0.04     1\n",
       "267  US1VACRC002  CHARLOTTESVILLE 0.5 NNE, VA US  2025-09-21  0.38     1\n",
       "268  US1VACRC002  CHARLOTTESVILLE 0.5 NNE, VA US  2025-09-25  0.29     1\n",
       "269  US1VACRC002  CHARLOTTESVILLE 0.5 NNE, VA US  2025-09-27  0.24     1\n",
       "270  US1VACRC002  CHARLOTTESVILLE 0.5 NNE, VA US  2025-09-28  0.60     1\n",
       "\n",
       "[399 rows x 5 columns]"
      ]
     },
     "execution_count": 113,
     "metadata": {},
     "output_type": "execute_result"
    }
   ],
   "source": [
    "cleaned_weather['rain'] = cleaned_weather['PRCP'] > 0\n",
    "cleaned_weather['rain'] = cleaned_weather['rain'].astype(int)\n",
    "cleaned_weather"
   ]
  },
  {
   "cell_type": "markdown",
   "id": "193fcbda",
   "metadata": {},
   "source": [
    "Okay so now we have a condensed dataframe with values for rain as 1 or 0. Our next step is to count the 4 transitions $0 \\rightarrow 0$, $0 \\rightarrow 1$, $1 \\rightarrow 0$, $1 \\rightarrow 1$. Where 0 is Sunny and 1 is Rainy"
   ]
  },
  {
   "cell_type": "code",
   "execution_count": 117,
   "id": "41ee0975",
   "metadata": {},
   "outputs": [
    {
     "name": "stderr",
     "output_type": "stream",
     "text": [
      "C:\\Users\\mason\\AppData\\Local\\Temp\\ipykernel_13928\\1928348905.py:2: SettingWithCopyWarning: \n",
      "A value is trying to be set on a copy of a slice from a DataFrame.\n",
      "Try using .loc[row_indexer,col_indexer] = value instead\n",
      "\n",
      "See the caveats in the documentation: https://pandas.pydata.org/pandas-docs/stable/user_guide/indexing.html#returning-a-view-versus-a-copy\n",
      "  cleaned_weather['next_state'] = cleaned_weather['rain'].shift(-1)\n"
     ]
    },
    {
     "data": {
      "text/html": [
       "<div>\n",
       "<style scoped>\n",
       "    .dataframe tbody tr th:only-of-type {\n",
       "        vertical-align: middle;\n",
       "    }\n",
       "\n",
       "    .dataframe tbody tr th {\n",
       "        vertical-align: top;\n",
       "    }\n",
       "\n",
       "    .dataframe thead th {\n",
       "        text-align: right;\n",
       "    }\n",
       "</style>\n",
       "<table border=\"1\" class=\"dataframe\">\n",
       "  <thead>\n",
       "    <tr style=\"text-align: right;\">\n",
       "      <th></th>\n",
       "      <th>STATION</th>\n",
       "      <th>NAME</th>\n",
       "      <th>DATE</th>\n",
       "      <th>PRCP</th>\n",
       "      <th>rain</th>\n",
       "      <th>next_state</th>\n",
       "    </tr>\n",
       "  </thead>\n",
       "  <tbody>\n",
       "    <tr>\n",
       "      <th>0</th>\n",
       "      <td>US1VACRC002</td>\n",
       "      <td>CHARLOTTESVILLE 0.5 NNE, VA US</td>\n",
       "      <td>2024-01-04</td>\n",
       "      <td>0.03</td>\n",
       "      <td>1</td>\n",
       "      <td>1</td>\n",
       "    </tr>\n",
       "    <tr>\n",
       "      <th>1</th>\n",
       "      <td>US1VACRC002</td>\n",
       "      <td>CHARLOTTESVILLE 0.5 NNE, VA US</td>\n",
       "      <td>2024-01-07</td>\n",
       "      <td>1.08</td>\n",
       "      <td>1</td>\n",
       "      <td>0</td>\n",
       "    </tr>\n",
       "    <tr>\n",
       "      <th>271</th>\n",
       "      <td>US1VAAB0010</td>\n",
       "      <td>CHARLOTTESVILLE 8.4 W, VA US</td>\n",
       "      <td>2024-01-08</td>\n",
       "      <td>0.00</td>\n",
       "      <td>0</td>\n",
       "      <td>1</td>\n",
       "    </tr>\n",
       "    <tr>\n",
       "      <th>2</th>\n",
       "      <td>US1VACRC002</td>\n",
       "      <td>CHARLOTTESVILLE 0.5 NNE, VA US</td>\n",
       "      <td>2024-01-09</td>\n",
       "      <td>0.24</td>\n",
       "      <td>1</td>\n",
       "      <td>1</td>\n",
       "    </tr>\n",
       "    <tr>\n",
       "      <th>3</th>\n",
       "      <td>US1VACRC002</td>\n",
       "      <td>CHARLOTTESVILLE 0.5 NNE, VA US</td>\n",
       "      <td>2024-01-10</td>\n",
       "      <td>3.00</td>\n",
       "      <td>1</td>\n",
       "      <td>1</td>\n",
       "    </tr>\n",
       "    <tr>\n",
       "      <th>...</th>\n",
       "      <td>...</td>\n",
       "      <td>...</td>\n",
       "      <td>...</td>\n",
       "      <td>...</td>\n",
       "      <td>...</td>\n",
       "      <td>...</td>\n",
       "    </tr>\n",
       "    <tr>\n",
       "      <th>264</th>\n",
       "      <td>US1VACRC002</td>\n",
       "      <td>CHARLOTTESVILLE 0.5 NNE, VA US</td>\n",
       "      <td>2025-09-07</td>\n",
       "      <td>0.04</td>\n",
       "      <td>1</td>\n",
       "      <td>1</td>\n",
       "    </tr>\n",
       "    <tr>\n",
       "      <th>265</th>\n",
       "      <td>US1VACRC002</td>\n",
       "      <td>CHARLOTTESVILLE 0.5 NNE, VA US</td>\n",
       "      <td>2025-09-17</td>\n",
       "      <td>0.41</td>\n",
       "      <td>1</td>\n",
       "      <td>1</td>\n",
       "    </tr>\n",
       "    <tr>\n",
       "      <th>266</th>\n",
       "      <td>US1VACRC002</td>\n",
       "      <td>CHARLOTTESVILLE 0.5 NNE, VA US</td>\n",
       "      <td>2025-09-18</td>\n",
       "      <td>0.04</td>\n",
       "      <td>1</td>\n",
       "      <td>1</td>\n",
       "    </tr>\n",
       "    <tr>\n",
       "      <th>267</th>\n",
       "      <td>US1VACRC002</td>\n",
       "      <td>CHARLOTTESVILLE 0.5 NNE, VA US</td>\n",
       "      <td>2025-09-21</td>\n",
       "      <td>0.38</td>\n",
       "      <td>1</td>\n",
       "      <td>1</td>\n",
       "    </tr>\n",
       "    <tr>\n",
       "      <th>268</th>\n",
       "      <td>US1VACRC002</td>\n",
       "      <td>CHARLOTTESVILLE 0.5 NNE, VA US</td>\n",
       "      <td>2025-09-25</td>\n",
       "      <td>0.29</td>\n",
       "      <td>1</td>\n",
       "      <td>1</td>\n",
       "    </tr>\n",
       "  </tbody>\n",
       "</table>\n",
       "<p>397 rows × 6 columns</p>\n",
       "</div>"
      ],
      "text/plain": [
       "         STATION                            NAME        DATE  PRCP  rain  \\\n",
       "0    US1VACRC002  CHARLOTTESVILLE 0.5 NNE, VA US  2024-01-04  0.03     1   \n",
       "1    US1VACRC002  CHARLOTTESVILLE 0.5 NNE, VA US  2024-01-07  1.08     1   \n",
       "271  US1VAAB0010    CHARLOTTESVILLE 8.4 W, VA US  2024-01-08  0.00     0   \n",
       "2    US1VACRC002  CHARLOTTESVILLE 0.5 NNE, VA US  2024-01-09  0.24     1   \n",
       "3    US1VACRC002  CHARLOTTESVILLE 0.5 NNE, VA US  2024-01-10  3.00     1   \n",
       "..           ...                             ...         ...   ...   ...   \n",
       "264  US1VACRC002  CHARLOTTESVILLE 0.5 NNE, VA US  2025-09-07  0.04     1   \n",
       "265  US1VACRC002  CHARLOTTESVILLE 0.5 NNE, VA US  2025-09-17  0.41     1   \n",
       "266  US1VACRC002  CHARLOTTESVILLE 0.5 NNE, VA US  2025-09-18  0.04     1   \n",
       "267  US1VACRC002  CHARLOTTESVILLE 0.5 NNE, VA US  2025-09-21  0.38     1   \n",
       "268  US1VACRC002  CHARLOTTESVILLE 0.5 NNE, VA US  2025-09-25  0.29     1   \n",
       "\n",
       "     next_state  \n",
       "0             1  \n",
       "1             0  \n",
       "271           1  \n",
       "2             1  \n",
       "3             1  \n",
       "..          ...  \n",
       "264           1  \n",
       "265           1  \n",
       "266           1  \n",
       "267           1  \n",
       "268           1  \n",
       "\n",
       "[397 rows x 6 columns]"
      ]
     },
     "execution_count": 117,
     "metadata": {},
     "output_type": "execute_result"
    }
   ],
   "source": [
    "#going from state to state we need a next state column\n",
    "cleaned_weather['next_state'] = cleaned_weather['rain'].shift(-1)\n",
    "cleaned_weather = cleaned_weather.dropna()\n",
    "# Ensure the states are integers (0 or 1)\n",
    "cleaned_weather['next_state'] = cleaned_weather['next_state'].astype(int)\n",
    "cleaned_weather"
   ]
  },
  {
   "cell_type": "code",
   "execution_count": 118,
   "id": "33a17f17",
   "metadata": {},
   "outputs": [
    {
     "data": {
      "text/html": [
       "<div>\n",
       "<style scoped>\n",
       "    .dataframe tbody tr th:only-of-type {\n",
       "        vertical-align: middle;\n",
       "    }\n",
       "\n",
       "    .dataframe tbody tr th {\n",
       "        vertical-align: top;\n",
       "    }\n",
       "\n",
       "    .dataframe thead th {\n",
       "        text-align: right;\n",
       "    }\n",
       "</style>\n",
       "<table border=\"1\" class=\"dataframe\">\n",
       "  <thead>\n",
       "    <tr style=\"text-align: right;\">\n",
       "      <th>To State (Tomorrow)</th>\n",
       "      <th>0</th>\n",
       "      <th>1</th>\n",
       "    </tr>\n",
       "    <tr>\n",
       "      <th>From State (Today)</th>\n",
       "      <th></th>\n",
       "      <th></th>\n",
       "    </tr>\n",
       "  </thead>\n",
       "  <tbody>\n",
       "    <tr>\n",
       "      <th>0</th>\n",
       "      <td>172</td>\n",
       "      <td>48</td>\n",
       "    </tr>\n",
       "    <tr>\n",
       "      <th>1</th>\n",
       "      <td>48</td>\n",
       "      <td>129</td>\n",
       "    </tr>\n",
       "  </tbody>\n",
       "</table>\n",
       "</div>"
      ],
      "text/plain": [
       "To State (Tomorrow)    0    1\n",
       "From State (Today)           \n",
       "0                    172   48\n",
       "1                     48  129"
      ]
     },
     "execution_count": 118,
     "metadata": {},
     "output_type": "execute_result"
    }
   ],
   "source": [
    "#count the transitions\n",
    "transition_counts = pd.crosstab(\n",
    "    cleaned_weather['rain'], \n",
    "    cleaned_weather['next_state'],\n",
    "    rownames=['From State (Today)'],\n",
    "    colnames=['To State (Tomorrow)']\n",
    ")\n",
    "transition_counts"
   ]
  },
  {
   "cell_type": "code",
   "execution_count": 126,
   "id": "99eb1322",
   "metadata": {},
   "outputs": [
    {
     "name": "stdout",
     "output_type": "stream",
     "text": [
      "[[0.78181818 0.27118644]\n",
      " [0.21818182 0.72881356]]\n",
      "        From 0    From 1\n",
      "To 0  0.781818  0.271186\n",
      "To 1  0.218182  0.728814\n"
     ]
    }
   ],
   "source": [
    "#Normalize the Transitions\n",
    "T = transition_counts.apply(lambda x: x / x.sum(), axis=0)\n",
    "T_matrix = T.to_numpy()\n",
    "T.index = ['To 0', 'To 1']\n",
    "T.columns = ['From 0', 'From 1']\n",
    "print(T_matrix)\n",
    "print(T)"
   ]
  },
  {
   "cell_type": "markdown",
   "id": "341065f0",
   "metadata": {},
   "source": [
    "How likely is it to rain if it was rainy yesterday $(1 \\rightarrow 1)$ How likely is it to rain if it was clear yesterday $(0 \\rightarrow 1)$?\n",
    "$1 \\rightarrow 1 = 72.88%$ that it will rain if it was rainy yesterday . $0 \\rightarrow 1 = 21.82%$ that it will rain if it was clear yesterday."
   ]
  },
  {
   "cell_type": "markdown",
   "id": "b953c2c4",
   "metadata": {},
   "source": [
    "4. Taxicab trajectories: Using the pickled taxicab data, we want to complete the exercise from class.\n",
    "\n",
    "- For the taxicab trajectory data, determine your state space and clean your sequences of cab rides.\n",
    "- Compute the transition matrix for the taxicab data between neighborhoods in Manhattan. Plot it in a heat map. What are the most common routes?\n",
    "- Explain why taxicabs are most likely order 1, and not 2 or more.\n",
    "- Starting at Hell's Kitchen, create a sequence of forecasts of where the cab is likely to be in 2, 3, 5, and 10 trips\n",
    "- Starting at any neighborhood, iterate your forecast until it is no longer changing very much. Where do cabs spend most of their time working in Manhattan?"
   ]
  },
  {
   "cell_type": "markdown",
   "id": "e32ae6d8",
   "metadata": {},
   "source": [
    "Going through the majority of the taxicab data in Class"
   ]
  },
  {
   "cell_type": "code",
   "execution_count": 81,
   "id": "f455b9ba",
   "metadata": {},
   "outputs": [],
   "source": [
    "import numpy as np\n",
    "import pandas as pd\n",
    "import seaborn as sns\n",
    "import matplotlib.pyplot as plt\n",
    "import pickle"
   ]
  },
  {
   "cell_type": "code",
   "execution_count": 82,
   "id": "50d13451",
   "metadata": {},
   "outputs": [
    {
     "name": "stdout",
     "output_type": "stream",
     "text": [
      "1000\n"
     ]
    },
    {
     "data": {
      "text/plain": [
       "0     Outside Manhattan\n",
       "0     Outside Manhattan\n",
       "0     Outside Manhattan\n",
       "0     Outside Manhattan\n",
       "0     Outside Manhattan\n",
       "            ...        \n",
       "29                 SoHo\n",
       "29                 SoHo\n",
       "13    Greenwich Village\n",
       "3               Chelsea\n",
       "3               Chelsea\n",
       "Name: nbhd, Length: 26026, dtype: object"
      ]
     },
     "execution_count": 82,
     "metadata": {},
     "output_type": "execute_result"
    }
   ],
   "source": [
    "with open('taxicab.pkl','rb') as f:\n",
    "    data = pickle.load(f)\n",
    "print(len(data))\n",
    "data[0]"
   ]
  }
 ],
 "metadata": {
  "kernelspec": {
   "display_name": "ds6001",
   "language": "python",
   "name": "python3"
  },
  "language_info": {
   "codemirror_mode": {
    "name": "ipython",
    "version": 3
   },
   "file_extension": ".py",
   "mimetype": "text/x-python",
   "name": "python",
   "nbconvert_exporter": "python",
   "pygments_lexer": "ipython3",
   "version": "3.13.5"
  }
 },
 "nbformat": 4,
 "nbformat_minor": 5
}
